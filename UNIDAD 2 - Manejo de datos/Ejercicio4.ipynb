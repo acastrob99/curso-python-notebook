{
 "cells": [
  {
   "cell_type": "code",
   "execution_count": null,
   "id": "9c394a28-a3ef-48aa-ab60-cb67ce69c816",
   "metadata": {},
   "outputs": [
    {
     "name": "stdout",
     "output_type": "stream",
     "text": [
      "1. Insertar aulmno\n",
      "2. Mostrar alumnos colegio\n",
      "3. Mostrar alumnos aula\n",
      "4. Busvar alumnos\n",
      "5. Salir\n"
     ]
    },
    {
     "name": "stdin",
     "output_type": "stream",
     "text": [
      "Elige una opcion:  1\n",
      "Inserta Dni alumno:  023\n",
      "Inserta nombre alumno:  alvaro\n",
      "Inserta apellidos alumno:  cas\n",
      "Inserta aula alumno:  1\n"
     ]
    },
    {
     "name": "stdout",
     "output_type": "stream",
     "text": [
      "1. Insertar aulmno\n",
      "2. Mostrar alumnos colegio\n",
      "3. Mostrar alumnos aula\n",
      "4. Busvar alumnos\n",
      "5. Salir\n"
     ]
    },
    {
     "name": "stdin",
     "output_type": "stream",
     "text": [
      "Elige una opcion:  2\n"
     ]
    },
    {
     "name": "stdout",
     "output_type": "stream",
     "text": [
      "Alumnos aula 1: {'Dni': '023', 'Nombre': 'alvaro', 'Apellidos': 'cas', 'Aula': 1}, \n",
      "Alumnos aula 2: \n",
      "Alumnos aula 3: \n",
      "\n",
      "1. Insertar aulmno\n",
      "2. Mostrar alumnos colegio\n",
      "3. Mostrar alumnos aula\n",
      "4. Busvar alumnos\n",
      "5. Salir\n"
     ]
    },
    {
     "name": "stdin",
     "output_type": "stream",
     "text": [
      "Elige una opcion:  3\n",
      "Elige la aula para mostrar alumnos 1\n"
     ]
    },
    {
     "name": "stdout",
     "output_type": "stream",
     "text": [
      "{'Dni': '023', 'Nombre': 'alvaro', 'Apellidos': 'cas', 'Aula': 1}, \n",
      "1. Insertar aulmno\n",
      "2. Mostrar alumnos colegio\n",
      "3. Mostrar alumnos aula\n",
      "4. Busvar alumnos\n",
      "5. Salir\n"
     ]
    },
    {
     "name": "stdin",
     "output_type": "stream",
     "text": [
      "Elige una opcion:  3\n",
      "Elige la aula para mostrar alumnos 4\n"
     ]
    },
    {
     "name": "stdout",
     "output_type": "stream",
     "text": [
      "Aula no existente\n",
      "1. Insertar aulmno\n",
      "2. Mostrar alumnos colegio\n",
      "3. Mostrar alumnos aula\n",
      "4. Busvar alumnos\n",
      "5. Salir\n"
     ]
    },
    {
     "name": "stdin",
     "output_type": "stream",
     "text": [
      "Elige una opcion:  3\n",
      "Elige la aula para mostrar alumnos 2\n"
     ]
    },
    {
     "name": "stdout",
     "output_type": "stream",
     "text": [
      "Aula vacia\n",
      "1. Insertar aulmno\n",
      "2. Mostrar alumnos colegio\n",
      "3. Mostrar alumnos aula\n",
      "4. Busvar alumnos\n",
      "5. Salir\n"
     ]
    },
    {
     "name": "stdin",
     "output_type": "stream",
     "text": [
      "Elige una opcion:  3\n",
      "Elige la aula para mostrar alumnos 3\n"
     ]
    },
    {
     "name": "stdout",
     "output_type": "stream",
     "text": [
      "Aula vacia\n",
      "1. Insertar aulmno\n",
      "2. Mostrar alumnos colegio\n",
      "3. Mostrar alumnos aula\n",
      "4. Busvar alumnos\n",
      "5. Salir\n"
     ]
    },
    {
     "name": "stdin",
     "output_type": "stream",
     "text": [
      "Elige una opcion:  3\n",
      "Elige la aula para mostrar alumnos 1\n"
     ]
    },
    {
     "name": "stdout",
     "output_type": "stream",
     "text": [
      "{'Dni': '023', 'Nombre': 'alvaro', 'Apellidos': 'cas', 'Aula': 1}, \n",
      "1. Insertar aulmno\n",
      "2. Mostrar alumnos colegio\n",
      "3. Mostrar alumnos aula\n",
      "4. Busvar alumnos\n",
      "5. Salir\n"
     ]
    },
    {
     "name": "stdin",
     "output_type": "stream",
     "text": [
      "Elige una opcion:  4\n",
      "Escribe Dni para buscar alumno 1\n"
     ]
    },
    {
     "name": "stdout",
     "output_type": "stream",
     "text": [
      "Alumno no encontrado\n",
      "1. Insertar aulmno\n",
      "2. Mostrar alumnos colegio\n",
      "3. Mostrar alumnos aula\n",
      "4. Busvar alumnos\n",
      "5. Salir\n"
     ]
    },
    {
     "name": "stdin",
     "output_type": "stream",
     "text": [
      "Elige una opcion:  4\n",
      "Escribe Dni para buscar alumno 023\n"
     ]
    },
    {
     "name": "stdout",
     "output_type": "stream",
     "text": [
      "{'Dni': '023', 'Nombre': 'alvaro', 'Apellidos': 'cas', 'Aula': 1}\n",
      "1. Insertar aulmno\n",
      "2. Mostrar alumnos colegio\n",
      "3. Mostrar alumnos aula\n",
      "4. Busvar alumnos\n",
      "5. Salir\n"
     ]
    },
    {
     "name": "stdin",
     "output_type": "stream",
     "text": [
      "Elige una opcion:  1\n",
      "Inserta Dni alumno:  024\n",
      "Inserta nombre alumno:  pepe\n",
      "Inserta apellidos alumno:  lopez\n",
      "Inserta aula alumno:  3\n"
     ]
    },
    {
     "name": "stdout",
     "output_type": "stream",
     "text": [
      "1. Insertar aulmno\n",
      "2. Mostrar alumnos colegio\n",
      "3. Mostrar alumnos aula\n",
      "4. Busvar alumnos\n",
      "5. Salir\n"
     ]
    },
    {
     "name": "stdin",
     "output_type": "stream",
     "text": [
      "Elige una opcion:  1\n",
      "Inserta Dni alumno:  025\n",
      "Inserta nombre alumno:  javi\n",
      "Inserta apellidos alumno:  loko\n",
      "Inserta aula alumno:  1\n"
     ]
    },
    {
     "name": "stdout",
     "output_type": "stream",
     "text": [
      "1. Insertar aulmno\n",
      "2. Mostrar alumnos colegio\n",
      "3. Mostrar alumnos aula\n",
      "4. Busvar alumnos\n",
      "5. Salir\n"
     ]
    },
    {
     "name": "stdin",
     "output_type": "stream",
     "text": [
      "Elige una opcion:  2\n"
     ]
    },
    {
     "name": "stdout",
     "output_type": "stream",
     "text": [
      "Alumnos aula 1: {'Dni': '023', 'Nombre': 'alvaro', 'Apellidos': 'cas', 'Aula': 1}, {'Dni': '025', 'Nombre': 'javi', 'Apellidos': 'loko', 'Aula': 1}, \n",
      "Alumnos aula 2: \n",
      "Alumnos aula 3: {'Dni': '024', 'Nombre': 'pepe', 'Apellidos': 'lopez', 'Aula': 3}, \n",
      "\n",
      "1. Insertar aulmno\n",
      "2. Mostrar alumnos colegio\n",
      "3. Mostrar alumnos aula\n",
      "4. Busvar alumnos\n",
      "5. Salir\n"
     ]
    },
    {
     "name": "stdin",
     "output_type": "stream",
     "text": [
      "Elige una opcion:  1\n",
      "Inserta Dni alumno:  026\n",
      "Inserta nombre alumno:  kenko\n",
      "Inserta apellidos alumno:  lope\n",
      "Inserta aula alumno:  2\n"
     ]
    },
    {
     "name": "stdout",
     "output_type": "stream",
     "text": [
      "1. Insertar aulmno\n",
      "2. Mostrar alumnos colegio\n",
      "3. Mostrar alumnos aula\n",
      "4. Busvar alumnos\n",
      "5. Salir\n"
     ]
    },
    {
     "name": "stdin",
     "output_type": "stream",
     "text": [
      "Elige una opcion:  2\n"
     ]
    },
    {
     "name": "stdout",
     "output_type": "stream",
     "text": [
      "Alumnos aula 1: {'Dni': '023', 'Nombre': 'alvaro', 'Apellidos': 'cas', 'Aula': 1}, {'Dni': '025', 'Nombre': 'javi', 'Apellidos': 'loko', 'Aula': 1}, \n",
      "Alumnos aula 2: {'Dni': '026', 'Nombre': 'kenko', 'Apellidos': 'lope', 'Aula': 2}, \n",
      "Alumnos aula 3: {'Dni': '024', 'Nombre': 'pepe', 'Apellidos': 'lopez', 'Aula': 3}, \n",
      "\n",
      "1. Insertar aulmno\n",
      "2. Mostrar alumnos colegio\n",
      "3. Mostrar alumnos aula\n",
      "4. Busvar alumnos\n",
      "5. Salir\n"
     ]
    },
    {
     "name": "stdin",
     "output_type": "stream",
     "text": [
      "Elige una opcion:  3\n",
      "Elige la aula para mostrar alumnos 1\n"
     ]
    },
    {
     "name": "stdout",
     "output_type": "stream",
     "text": [
      "{'Dni': '023', 'Nombre': 'alvaro', 'Apellidos': 'cas', 'Aula': 1}, {'Dni': '025', 'Nombre': 'javi', 'Apellidos': 'loko', 'Aula': 1}, \n",
      "1. Insertar aulmno\n",
      "2. Mostrar alumnos colegio\n",
      "3. Mostrar alumnos aula\n",
      "4. Busvar alumnos\n",
      "5. Salir\n"
     ]
    },
    {
     "name": "stdin",
     "output_type": "stream",
     "text": [
      "Elige una opcion:  3\n",
      "Elige la aula para mostrar alumnos 2\n"
     ]
    },
    {
     "name": "stdout",
     "output_type": "stream",
     "text": [
      "{'Dni': '026', 'Nombre': 'kenko', 'Apellidos': 'lope', 'Aula': 2}, \n",
      "1. Insertar aulmno\n",
      "2. Mostrar alumnos colegio\n",
      "3. Mostrar alumnos aula\n",
      "4. Busvar alumnos\n",
      "5. Salir\n"
     ]
    },
    {
     "name": "stdin",
     "output_type": "stream",
     "text": [
      "Elige una opcion:  3\n",
      "Elige la aula para mostrar alumnos 3\n"
     ]
    },
    {
     "name": "stdout",
     "output_type": "stream",
     "text": [
      "{'Dni': '024', 'Nombre': 'pepe', 'Apellidos': 'lopez', 'Aula': 3}, \n",
      "1. Insertar aulmno\n",
      "2. Mostrar alumnos colegio\n",
      "3. Mostrar alumnos aula\n",
      "4. Busvar alumnos\n",
      "5. Salir\n"
     ]
    },
    {
     "name": "stdin",
     "output_type": "stream",
     "text": [
      "Elige una opcion:  4\n",
      "Escribe Dni para buscar alumno 023\n"
     ]
    },
    {
     "name": "stdout",
     "output_type": "stream",
     "text": [
      "{'Dni': '023', 'Nombre': 'alvaro', 'Apellidos': 'cas', 'Aula': 1}\n",
      "1. Insertar aulmno\n",
      "2. Mostrar alumnos colegio\n",
      "3. Mostrar alumnos aula\n",
      "4. Busvar alumnos\n",
      "5. Salir\n"
     ]
    },
    {
     "name": "stdin",
     "output_type": "stream",
     "text": [
      "Elige una opcion:  4\n",
      "Escribe Dni para buscar alumno 024\n"
     ]
    },
    {
     "name": "stdout",
     "output_type": "stream",
     "text": [
      "{'Dni': '024', 'Nombre': 'pepe', 'Apellidos': 'lopez', 'Aula': 3}\n",
      "1. Insertar aulmno\n",
      "2. Mostrar alumnos colegio\n",
      "3. Mostrar alumnos aula\n",
      "4. Busvar alumnos\n",
      "5. Salir\n"
     ]
    },
    {
     "name": "stdin",
     "output_type": "stream",
     "text": [
      "Elige una opcion:  4\n",
      "Escribe Dni para buscar alumno 025\n"
     ]
    },
    {
     "name": "stdout",
     "output_type": "stream",
     "text": [
      "{'Dni': '025', 'Nombre': 'javi', 'Apellidos': 'loko', 'Aula': 1}\n",
      "1. Insertar aulmno\n",
      "2. Mostrar alumnos colegio\n",
      "3. Mostrar alumnos aula\n",
      "4. Busvar alumnos\n",
      "5. Salir\n"
     ]
    },
    {
     "name": "stdin",
     "output_type": "stream",
     "text": [
      "Elige una opcion:  4\n",
      "Escribe Dni para buscar alumno 026\n"
     ]
    },
    {
     "name": "stdout",
     "output_type": "stream",
     "text": [
      "{'Dni': '026', 'Nombre': 'kenko', 'Apellidos': 'lope', 'Aula': 2}\n",
      "1. Insertar aulmno\n",
      "2. Mostrar alumnos colegio\n",
      "3. Mostrar alumnos aula\n",
      "4. Busvar alumnos\n",
      "5. Salir\n"
     ]
    }
   ],
   "source": [
    "# 1. Insertar aulmno --> En que aula quieres meter al alumno (1,2,3) --> DNI, Nombre, Apellidos \n",
    "# 2. Mostrar alumnos colegio --> Todos los alumnos del colegio por aula\n",
    "# 3. Mostrar alumnos aula --> Pregunta de que aula quiere mostrar los alumnos (1,2,3)\n",
    "# 4. Buscar alumno --> Pregunta por el DNI --> Muestra en el aula que esta el alumno con ese DNI, si existe\n",
    "# 5. Salir\n",
    "\n",
    "# Tenemos un colegio en el que hay aulas a las que estan asignadas unos alumos con DNI, NOMBRE Y APELLIDOS\n",
    "\n",
    "aulas = [1,2,3]\n",
    "colegio = {'Aulas':aulas}\n",
    "alumnos = []\n",
    "\n",
    "def menu():\n",
    "    opcion = 0\n",
    "    while opcion != 5:\n",
    "        print(\"1. Insertar aulmno\")\n",
    "        print(\"2. Mostrar alumnos colegio\")\n",
    "        print(\"3. Mostrar alumnos aula\")\n",
    "        print(\"4. Buscar alumnos\")\n",
    "        print(\"5. Salir\")\n",
    "        opcion = int(input(\"Elige una opcion: \"))\n",
    "        if opcion == 1:\n",
    "            insertar_alumno()\n",
    "        if opcion == 2:\n",
    "            print(mostrar_alumnos())\n",
    "        if opcion == 3:\n",
    "            print(mostrar_alumnos_aula(int(input(\"Elige la aula para mostrar alumnos: \"))))\n",
    "        if opcion == 4:\n",
    "            print(buscar_alumno(str(input(\"Escribe Dni para buscar alumno: \"))))\n",
    "        if opcion == 5:\n",
    "            print(\"Adios!!!\")\n",
    "\n",
    "def insertar_alumno():\n",
    "    dni = str(input(\"Inserta Dni alumno: \"))\n",
    "    nombre = str(input(\"Inserta nombre alumno: \"))\n",
    "    apellidos = str(input(\"Inserta apellidos alumno: \"))\n",
    "    aula = int(input(\"Inserta aula alumno: \")) \n",
    "    alumno = {'Dni': dni, 'Nombre': nombre,'Apellidos': apellidos, \"Aula\": aula}\n",
    "    alumnos.append(alumno)\n",
    "    colegio['Alumno'] = alumnos\n",
    "\n",
    "\n",
    "def mostrar_alumnos():    \n",
    "    aula1 = \"\"\n",
    "    aula2 = \"\"\n",
    "    aula3 = \"\"\n",
    "    for alumno in alumnos:\n",
    "        if alumno['Aula'] == 1:\n",
    "            aula1 += str(alumno)+\", \" \n",
    "        if alumno['Aula'] == 2:\n",
    "            aula2 += str(alumno)+\", \" \n",
    "        if alumno['Aula'] == 3:\n",
    "            aula3 += str(alumno)+\", \" \n",
    "\n",
    "    return str(\"Alumnos aula 1: \"+aula1+\"\\n\"+\"Alumnos aula 2: \"+aula2+\"\\n\"+\"Alumnos aula 3: \"+aula3+\"\\n\")    \n",
    "\n",
    "\n",
    "def mostrar_alumnos_aula(aula):\n",
    "    alumnos_aula = \"\"\n",
    "    for alumno in alumnos:\n",
    "        if alumno['Aula'] == aula:\n",
    "            alumnos_aula += str(alumno)+\", \"\n",
    "        if aula >= 4:\n",
    "            return \"Aula no existente\"\n",
    "    if alumnos_aula != \"\":\n",
    "        return alumnos_aula\n",
    "    else:\n",
    "        return \"Aula vacia\"\n",
    "        \n",
    "\n",
    "def buscar_alumno(dni):\n",
    "    alumno_dni = \"\"\n",
    "    for alumno in alumnos:\n",
    "        if alumno['Dni'] == dni:\n",
    "            alumno_dni = str(alumno)\n",
    "    \n",
    "    if alumno_dni != \"\":\n",
    "        return alumno_dni\n",
    "    else:\n",
    "        return \"Alumno no encontrado\"\n",
    "\n",
    "\n",
    "menu()\n"
   ]
  },
  {
   "cell_type": "code",
   "execution_count": null,
   "id": "7f060481-b72e-4aca-87e5-3010c5b67338",
   "metadata": {},
   "outputs": [],
   "source": []
  }
 ],
 "metadata": {
  "kernelspec": {
   "display_name": "Python 3 (ipykernel)",
   "language": "python",
   "name": "python3"
  },
  "language_info": {
   "codemirror_mode": {
    "name": "ipython",
    "version": 3
   },
   "file_extension": ".py",
   "mimetype": "text/x-python",
   "name": "python",
   "nbconvert_exporter": "python",
   "pygments_lexer": "ipython3",
   "version": "3.9.13"
  }
 },
 "nbformat": 4,
 "nbformat_minor": 5
}
