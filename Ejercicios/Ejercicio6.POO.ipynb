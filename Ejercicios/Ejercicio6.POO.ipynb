{
 "cells": [
  {
   "cell_type": "markdown",
   "metadata": {},
   "source": [
    "# Ejercicio 6. Programacion Orientada Objetos"
   ]
  },
  {
   "cell_type": "markdown",
   "metadata": {},
   "source": [
    "**Crear la clase Alumno**  \n",
    "-nombre  \n",
    "-apellidos  \n",
    "-dni  \n",
    "-notas: diccionario <K:asignatura, V:nota>  \n",
    "estudiar() --> el alumno <nombre> esta estudiando <asignatura obtenida de manera aleatoria del diccionario>  \n",
    "    \n",
    "**    \n",
    "3 alumnos --> lista -->  \n",
    "    +Nota media de cada alumno --> El alumno <nombre> tiene una nota media de ...  \n",
    "    +Nota media de todos los alumnos --> La nota media de todos los alumnos es ...\n",
    "   \n",
    "Tradicional y usando funciones lambda\n"
   ]
  },
  {
   "cell_type": "code",
   "execution_count": 2,
   "metadata": {},
   "outputs": [
    {
     "name": "stdout",
     "output_type": "stream",
     "text": [
      "Mates\n"
     ]
    },
    {
     "name": "stdin",
     "output_type": "stream",
     "text": [
      "Escribe nota alumno alvaro:  1\n",
      "Escribe nota alumno alvaro:  2\n",
      "Escribe nota alumno alvaro:  3\n"
     ]
    },
    {
     "name": "stdout",
     "output_type": "stream",
     "text": [
      "el alumno alvaro esta estudiando Lengua\n",
      "La nota de media de alvaro es 2.0\n"
     ]
    }
   ],
   "source": [
    "#3 alumnos en una lista\n",
    "\n",
    "import random\n",
    "class alumno:\n",
    "    def __init__(self,nombre,apellidos,dni):\n",
    "        self.nombre = nombre\n",
    "        self.apellidos = apellidos\n",
    "        self.dni = dni\n",
    "        self.notas = {\"Mates\": None, \"Ingles\": None, \"Lengua\": None}\n",
    "\n",
    "    def insertar_notas(self):\n",
    "        for nota in self.notas:\n",
    "            if nota == \"Mates\":\n",
    "                print(nota)\n",
    "                self.notas[nota] = input(\"Escribe nota alumno \" +self.nombre +\": \")\n",
    "            elif nota == \"Ingles\":\n",
    "                self.notas[nota] = input(\"Escribe nota alumno \"+self.nombre +\": \")\n",
    "            elif nota == \"Lengua\":\n",
    "               self.notas[nota] = input(\"Escribe nota alumno \" + self.nombre +\": \")\n",
    "        \n",
    "\n",
    "    def estudiar(self):\n",
    "        print(\"el alumno {} esta estudiando {}\".format(self.nombre,random.choice(list(alumno1.notas.keys()))))\n",
    "\n",
    "\n",
    "\n",
    "alumno1 = alumno(\"alvaro\",\"cas\",\"023A\")\n",
    "alumno2 = alumno(\"pepe\",\"lopez\",\"024B\")\n",
    "alumno3 = alumno(\"javier\",\"martinez\",\"025C\")\n",
    "alumnos = [alumno1,alumno2,alumno3]\n",
    "\n",
    "alumno1.insertar_notas()\n",
    "#alumno2.insertar_notas()\n",
    "#alumno3.insertar_notas()\n",
    "alumno1.estudiar()\n",
    "#alumno2.estudiar()\n",
    "#alumno3.estudiar()\n",
    "\n",
    "def nota_media(alumno):\n",
    "    media = 0\n",
    "    for nota in alumno.notas.values():\n",
    "        media = media + int(nota)\n",
    "\n",
    "   \n",
    "    return media / len(alumno.notas.items())\n",
    "\n",
    "def nota_media_de_todos(alumnos):\n",
    "    media_total = 0\n",
    "    for alumno in alumnos:\n",
    "        media_total = media_total + nota_media(alumno)\n",
    "    \n",
    "    return media_total / len(alumnos)\n",
    "\n",
    "    \n",
    "    \n",
    "\n",
    "\n",
    "print(\"La nota de media de {} es {}\".format(alumno1.nombre,nota_media(alumno1)))\n",
    "#print(\"La nota de media de {} es {}\".format(alumno2.nombre,nota_media(alumno2)))\n",
    "#print(\"La nota de media de {} es {}\".format(alumno3.nombre,nota_media(alumno3)))\n",
    "#print(\"La nota media de todos los alumnos es: \",nota_media_de_todos(alumnos))\n",
    "\n",
    "from functools import reduce\n"
   ]
  }
 ],
 "metadata": {
  "kernelspec": {
   "display_name": "Python 3 (ipykernel)",
   "language": "python",
   "name": "python3"
  },
  "language_info": {
   "codemirror_mode": {
    "name": "ipython",
    "version": 3
   },
   "file_extension": ".py",
   "mimetype": "text/x-python",
   "name": "python",
   "nbconvert_exporter": "python",
   "pygments_lexer": "ipython3",
   "version": "3.9.13"
  }
 },
 "nbformat": 4,
 "nbformat_minor": 4
}
