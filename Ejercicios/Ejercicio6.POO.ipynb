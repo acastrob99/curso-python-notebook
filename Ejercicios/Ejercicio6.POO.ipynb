{
 "cells": [
  {
   "cell_type": "markdown",
   "metadata": {},
   "source": [
    "# Ejercicio 6. Programacion Orientada Objetos"
   ]
  },
  {
   "cell_type": "markdown",
   "metadata": {},
   "source": [
    "**Crear la clase Alumno**  \n",
    "-nombre  \n",
    "-apellidos  \n",
    "-dni  \n",
    "-notas: diccionario <K:asignatura, V:nota>  \n",
    "estudiar() --> el alumno <nombre> esta estudiando <asignatura obtenida de manera aleatoria del diccionario>  \n",
    "    \n",
    "**    \n",
    "3 alumnos --> lista -->  \n",
    "    +Nota media de cada alumno --> El alumno <nombre> tiene una nota media de ...  \n",
    "    +Nota media de todos los alumnos --> La nota media de todos los alumnos es ...\n",
    "   \n",
    "Tradicional y usando funciones lambda\n"
   ]
  },
  {
   "cell_type": "code",
   "execution_count": 1,
   "metadata": {},
   "outputs": [
    {
     "name": "stdin",
     "output_type": "stream",
     "text": [
      "Escribe nota alumno alvaro en mates:  1\n",
      "Escribe nota alumno alvaro en ingles:  2\n",
      "Escribe nota alumno alvaro en lengua:  3\n",
      "Escribe nota alumno pepe en mates:  4\n",
      "Escribe nota alumno pepe en ingles:  5\n",
      "Escribe nota alumno pepe en lengua:  6\n",
      "Escribe nota alumno javier en mates:  7\n",
      "Escribe nota alumno javier en ingles:  8\n",
      "Escribe nota alumno javier en lengua:  9\n"
     ]
    },
    {
     "name": "stdout",
     "output_type": "stream",
     "text": [
      "el alumno alvaro esta estudiando Lengua\n",
      "el alumno pepe esta estudiando Ingles\n",
      "el alumno javier esta estudiando Lengua\n",
      "La nota de media de alvaro es 2.0\n",
      "La nota de media de pepe es 5.0\n",
      "La nota de media de javier es 8.0\n",
      "La nota media de todos los alumnos es:  5.0\n"
     ]
    }
   ],
   "source": [
    "#3 alumnos en una lista\n",
    "\n",
    "import random\n",
    "class alumno():\n",
    "    def __init__(self,nombre,apellidos,dni):\n",
    "        self.nombre = nombre\n",
    "        self.apellidos = apellidos\n",
    "        self.dni = dni\n",
    "        self.notas = {\"Mates\": None, \"Ingles\": None, \"Lengua\": None}\n",
    "\n",
    "    def insertar_notas(self):\n",
    "        self.notas[\"Mates\"]= input(\"Escribe nota alumno {} en mates: \".format(self.nombre))\n",
    "        self.notas[\"Ingles\"]= input(\"Escribe nota alumno {} en ingles: \".format(self.nombre))\n",
    "        self.notas[\"Lengua\"]= input(\"Escribe nota alumno {} en lengua: \".format(self.nombre))\n",
    "\n",
    "    def estudiar(self):\n",
    "        print(\"el alumno {} esta estudiando {}\".format(self.nombre,random.choice(list(alumno1.notas.keys()))))\n",
    "\n",
    "\n",
    "alumnos = []\n",
    "alumno1 = alumno(\"alvaro\",\"cas\",\"023A\")\n",
    "alumno2 = alumno(\"pepe\",\"lopez\",\"024B\")\n",
    "alumno3 = alumno(\"javier\",\"martinez\",\"025C\")\n",
    "alumnos.append(alumno1)\n",
    "alumnos.append(alumno2)\n",
    "alumnos.append(alumno3)\n",
    "\n",
    "alumno1.insertar_notas()\n",
    "alumno2.insertar_notas()\n",
    "alumno3.insertar_notas()\n",
    "alumno1.estudiar()\n",
    "alumno2.estudiar()\n",
    "alumno3.estudiar()\n",
    "\n",
    "def nota_media(alumno):\n",
    "    media = 0\n",
    "    for nota in alumno.notas.values():\n",
    "        media = media + int(nota)\n",
    "\n",
    "   \n",
    "    return media / len(alumno.notas.items())\n",
    "\n",
    "def nota_media_de_todos(alumnos):\n",
    "    media_total = 0\n",
    "    for alumno in alumnos:\n",
    "        media_total = media_total + nota_media(alumno)\n",
    "    \n",
    "    return media_total / len(alumnos)\n",
    "\n",
    "        \n",
    "print(\"La nota de media de {} es {}\".format(alumno1.nombre,nota_media(alumno1)))\n",
    "print(\"La nota de media de {} es {}\".format(alumno2.nombre,nota_media(alumno2)))\n",
    "print(\"La nota de media de {} es {}\".format(alumno3.nombre,nota_media(alumno3)))\n",
    "print(\"La nota media de todos los alumnos es: \",nota_media_de_todos(alumnos))\n",
    "\n",
    "from functools import reduce\n",
    "#media = reduce(lambda n1,n2 : (n1+=n1) / len(alumno.notas.items()),alumno1.notas.values(),0)\n",
    "#media = reduce(lambda alum1,alum2 : (alum1.notas.values()) / len(alumno.notas.items()),alumno1,0)\n",
    "#print(media)\n",
    "\n",
    "\n"
   ]
  },
  {
   "cell_type": "code",
   "execution_count": null,
   "metadata": {},
   "outputs": [],
   "source": []
  }
 ],
 "metadata": {
  "kernelspec": {
   "display_name": "Python 3 (ipykernel)",
   "language": "python",
   "name": "python3"
  },
  "language_info": {
   "codemirror_mode": {
    "name": "ipython",
    "version": 3
   },
   "file_extension": ".py",
   "mimetype": "text/x-python",
   "name": "python",
   "nbconvert_exporter": "python",
   "pygments_lexer": "ipython3",
   "version": "3.9.13"
  }
 },
 "nbformat": 4,
 "nbformat_minor": 4
}
